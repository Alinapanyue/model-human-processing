{
 "cells": [
  {
   "cell_type": "code",
   "execution_count": 1,
   "id": "042f8edd-4592-49bc-ab7f-b50210f1117a",
   "metadata": {},
   "outputs": [],
   "source": [
    "import numpy as np\n",
    "import pandas as pd\n",
    "import seaborn as sns\n",
    "from os import listdir\n",
    "import matplotlib.pyplot as plt\n",
    "from scipy import stats\n",
    "sns.set(style=\"ticks\", font_scale=1.2) # font=\"Arial\", \n",
    "plt.rc(\"axes.spines\", top=False, right=False)"
   ]
  },
  {
   "cell_type": "code",
   "execution_count": 2,
   "id": "cd1b734c",
   "metadata": {},
   "outputs": [],
   "source": [
    "# Define task below. Should be one of \"capitals-recall\", \"capitals-recognition\", or \"animals\".\n",
    "# Change this and run all cells to process the model + human data for a given task.\n",
    "TASK = \"vision\""
   ]
  },
  {
   "cell_type": "markdown",
   "id": "f6ca8376-abb2-4e5c-87d5-8583bc3692f1",
   "metadata": {},
   "source": [
    "# 0. Helper functions and global variables for plotting"
   ]
  },
  {
   "cell_type": "code",
   "execution_count": 3,
   "id": "6be56cbe-c077-4acd-a0c8-270290ba2fd8",
   "metadata": {},
   "outputs": [
    {
     "name": "stdout",
     "output_type": "stream",
     "text": [
      "OUTPUT measures (3): ['output_entropy', 'output_rank_correct', 'output_logprob_correct']\n",
      "PROCESS measures (6): ['auc_entropy', 'layer_biggest_change_entropy', 'auc_rank_correct', 'layer_biggest_change_rank_correct', 'auc_logprob_correct', 'layer_biggest_change_logprob_correct']\n"
     ]
    }
   ],
   "source": [
    "# Define list of models.\n",
    "MODELS = [\"vit_base_patch16_224\", \"vit_small_patch16_224\"]\n",
    "VOCAB_SIZE = 16\n",
    "N_LAYERS = 12\n",
    "\n",
    "# Define list of meta variables for the tasks.\n",
    "TASK_META_VAR_MAP = {\n",
    "    \"capitals-recall\": [\"entity\", \"correct\", \"intuitive\", \"population_ratio\"],\n",
    "    \"capitals-recognition\": [\"entity\", \"correct\", \"intuitive\", \"population_ratio\"],\n",
    "    \"animals\": [\"condition\", \"exemplar\", \"correct\", \"intuitive\"],\n",
    "    \"vision\": []\n",
    "}\n",
    "TASK_META_VARS = TASK_META_VAR_MAP[TASK]\n",
    "ITEM_META_VAR_MAP = {\n",
    "    \"capitals-recall\": [\"model\", \"item_id\"],\n",
    "    \"capitals-recognition\": [\"model\", \"item_id\", \"condition\"],\n",
    "    \"animals\": [\"model\", \"item_id\"],\n",
    "    \"vision\": [\"model\", \"item_id\", \"dataset_name\"]\n",
    "}\n",
    "ITEM_META_VARS = ITEM_META_VAR_MAP[TASK]\n",
    "\n",
    "# Define output IVs (from the final layer).\n",
    "OUTPUT_IV_MAP = {\n",
    "    \"entropy\": \"output_entropy\",\n",
    "    \"rank_correct\": \"output_rank_correct\",\n",
    "    \"logprob_correct\": \"output_logprob_correct\",\n",
    "}\n",
    "OLD_OUTPUT_IVS = [\"entropy\", \"rank_correct\", \"logprob_correct\"]\n",
    "OUTPUT_IVS = [OUTPUT_IV_MAP[i] for i in OLD_OUTPUT_IVS]\n",
    "print(f\"OUTPUT measures ({len(OUTPUT_IVS)}):\", OUTPUT_IVS)\n",
    "\n",
    "METRIC_MAP = {\n",
    "    \"Entropy\": \"entropy\",\n",
    "    \"Layerwise Reciprocal Rank\": \"rank_correct\",\n",
    "    \"Log Probability\": \"logprob_correct\",\n",
    "    \"Probability\": \"prob_correct\"\n",
    "}\n",
    "\n",
    "# Define process IVs based purely on probabilities.\n",
    "PROB_IVS = []\n",
    "for output_iv in OUTPUT_IVS:\n",
    "    # Get base name of metric (e.g., \"entropy\")\n",
    "    iv = output_iv.replace(\"output_\", \"\")\n",
    "    # Add AUC and biggest change measures.\n",
    "    PROB_IVS.append(f\"auc_{iv}\")\n",
    "    PROB_IVS.append(f\"layer_biggest_change_{iv}\")\n",
    "\n",
    "PROCESS_IVS = PROB_IVS\n",
    "print(f\"PROCESS measures ({len(PROCESS_IVS)}):\", PROCESS_IVS)\n",
    "\n",
    "\n",
    "def get_metric_group(iv):\n",
    "    if \"entropy\" in iv:\n",
    "        return \"Uncertainty\"\n",
    "    elif \"rank\" in iv or \"logprob_correct\" in iv:\n",
    "        return \"Confidence\"\n",
    "\n",
    "METRIC_GROUP_PAL = {\n",
    "    \"Uncertainty\": \"#FF7676FF\",\n",
    "    \"Confidence\": \"#F9D662FF\"\n",
    "}\n",
    "\n",
    "# Helper function for rendering a figure.\n",
    "FIGURE_DIR = \"../../figures\"\n",
    "def render_figure(outpath, render=True):\n",
    "    if render:\n",
    "        plt.savefig(f\"{FIGURE_DIR}/{outpath}\", dpi=300, bbox_inches=\"tight\")\n",
    "        print(f\"Saved figure to {FIGURE_DIR}/{outpath}\")\n",
    "    else:\n",
    "        print(\"Not saving figure\")"
   ]
  },
  {
   "cell_type": "markdown",
   "id": "b16ab836-d8c6-41df-ada6-0f862daf71c6",
   "metadata": {},
   "source": [
    "# 1. Read and process model outputs"
   ]
  },
  {
   "cell_type": "markdown",
   "id": "abb2f712",
   "metadata": {},
   "source": [
    "## Read data and do basic processing"
   ]
  },
  {
   "cell_type": "code",
   "execution_count": 4,
   "id": "8fabc747-4da6-42cf-901b-a08ff9ad7392",
   "metadata": {},
   "outputs": [],
   "source": [
    "def read_model_data(model=\"vit_base_patch16_224\", logprob=False):\n",
    "    print(f\"Reading model data for the following model: {model}\")\n",
    "    data_dir = f\"../../src/vision/model-vs-human/raw-data/metrics/{model}\"\n",
    "    datasets = listdir(data_dir)\n",
    "    entropy_df = pd.concat([\n",
    "        pd.read_csv(f\"{data_dir}/{dataset}/Entropy.csv\")\n",
    "        for dataset in datasets\n",
    "    ])\n",
    "    rank_df = pd.concat([\n",
    "        pd.read_csv(f\"{data_dir}/{dataset}/Layerwise Reciprocal Rank.csv\")\n",
    "        for dataset in datasets\n",
    "    ])\n",
    "    prob_df = pd.concat([\n",
    "        pd.read_csv(f\"{data_dir}/{dataset}/Probability.csv\")\n",
    "        for dataset in datasets\n",
    "    ])\n",
    "    prob_metric = \"prob_correct\"\n",
    "    if logprob:\n",
    "        prob_df[\"metric_name\"] = \"Log Probability\"\n",
    "        prob_df[\"value\"] = np.log(prob_df[\"value\"])\n",
    "        prob_metric = \"logprob_correct\"\n",
    "    \n",
    "    dfs = [entropy_df, rank_df, prob_df]\n",
    "    index = ITEM_META_VARS + [\"layer\"]\n",
    "    for i, df in enumerate(dfs):\n",
    "        metric = df[\"metric_name\"].values[0] \n",
    "        df = df.drop(columns=[\"metric_name\"]).rename(columns={\n",
    "            \"value\": METRIC_MAP[metric],\n",
    "            \"subj\": \"model\",\n",
    "            \"stimulus\": \"item_id\"\n",
    "        }).set_index(index)\n",
    "        dfs[i] = df\n",
    "        \n",
    "    df = dfs[0].merge(dfs[1], on=index).merge(dfs[2], on=index).reset_index()\n",
    "    \n",
    "    # Add column for whether the layer is the final layer.\n",
    "    # This is model-dependent.\n",
    "    max_layer = df[\"layer\"].max()\n",
    "    df[\"is_final_layer\"] = df[\"layer\"] == max_layer\n",
    "\n",
    "    return df"
   ]
  },
  {
   "cell_type": "code",
   "execution_count": 5,
   "id": "47a65004",
   "metadata": {},
   "outputs": [
    {
     "name": "stdout",
     "output_type": "stream",
     "text": [
      "Reading model data for the following model: vit_base_patch16_224\n",
      "Reading model data for the following model: vit_small_patch16_224\n"
     ]
    },
    {
     "data": {
      "text/html": [
       "<div>\n",
       "<style scoped>\n",
       "    .dataframe tbody tr th:only-of-type {\n",
       "        vertical-align: middle;\n",
       "    }\n",
       "\n",
       "    .dataframe tbody tr th {\n",
       "        vertical-align: top;\n",
       "    }\n",
       "\n",
       "    .dataframe thead th {\n",
       "        text-align: right;\n",
       "    }\n",
       "</style>\n",
       "<table border=\"1\" class=\"dataframe\">\n",
       "  <thead>\n",
       "    <tr style=\"text-align: right;\">\n",
       "      <th></th>\n",
       "      <th>model</th>\n",
       "      <th>item_id</th>\n",
       "      <th>dataset_name</th>\n",
       "      <th>layer</th>\n",
       "      <th>entropy</th>\n",
       "      <th>rank_correct</th>\n",
       "      <th>logprob_correct</th>\n",
       "      <th>is_final_layer</th>\n",
       "    </tr>\n",
       "  </thead>\n",
       "  <tbody>\n",
       "    <tr>\n",
       "      <th>0</th>\n",
       "      <td>vit_base_patch16_224</td>\n",
       "      <td>0001_lp_dnn_40_chair_10_n04099969_7577.png</td>\n",
       "      <td>low-pass</td>\n",
       "      <td>0</td>\n",
       "      <td>2.365237</td>\n",
       "      <td>0.250000</td>\n",
       "      <td>-2.346391</td>\n",
       "      <td>False</td>\n",
       "    </tr>\n",
       "    <tr>\n",
       "      <th>1</th>\n",
       "      <td>vit_base_patch16_224</td>\n",
       "      <td>0001_lp_dnn_40_chair_10_n04099969_7577.png</td>\n",
       "      <td>low-pass</td>\n",
       "      <td>1</td>\n",
       "      <td>2.550632</td>\n",
       "      <td>0.333333</td>\n",
       "      <td>-2.239163</td>\n",
       "      <td>False</td>\n",
       "    </tr>\n",
       "    <tr>\n",
       "      <th>2</th>\n",
       "      <td>vit_base_patch16_224</td>\n",
       "      <td>0001_lp_dnn_40_chair_10_n04099969_7577.png</td>\n",
       "      <td>low-pass</td>\n",
       "      <td>2</td>\n",
       "      <td>2.595342</td>\n",
       "      <td>0.166667</td>\n",
       "      <td>-2.617676</td>\n",
       "      <td>False</td>\n",
       "    </tr>\n",
       "    <tr>\n",
       "      <th>3</th>\n",
       "      <td>vit_base_patch16_224</td>\n",
       "      <td>0001_lp_dnn_40_chair_10_n04099969_7577.png</td>\n",
       "      <td>low-pass</td>\n",
       "      <td>3</td>\n",
       "      <td>2.643830</td>\n",
       "      <td>0.111111</td>\n",
       "      <td>-2.792522</td>\n",
       "      <td>False</td>\n",
       "    </tr>\n",
       "    <tr>\n",
       "      <th>4</th>\n",
       "      <td>vit_base_patch16_224</td>\n",
       "      <td>0001_lp_dnn_40_chair_10_n04099969_7577.png</td>\n",
       "      <td>low-pass</td>\n",
       "      <td>4</td>\n",
       "      <td>2.650365</td>\n",
       "      <td>0.090909</td>\n",
       "      <td>-3.162579</td>\n",
       "      <td>False</td>\n",
       "    </tr>\n",
       "  </tbody>\n",
       "</table>\n",
       "</div>"
      ],
      "text/plain": [
       "                  model                                     item_id  \\\n",
       "0  vit_base_patch16_224  0001_lp_dnn_40_chair_10_n04099969_7577.png   \n",
       "1  vit_base_patch16_224  0001_lp_dnn_40_chair_10_n04099969_7577.png   \n",
       "2  vit_base_patch16_224  0001_lp_dnn_40_chair_10_n04099969_7577.png   \n",
       "3  vit_base_patch16_224  0001_lp_dnn_40_chair_10_n04099969_7577.png   \n",
       "4  vit_base_patch16_224  0001_lp_dnn_40_chair_10_n04099969_7577.png   \n",
       "\n",
       "  dataset_name  layer   entropy  rank_correct  logprob_correct  is_final_layer  \n",
       "0     low-pass      0  2.365237      0.250000        -2.346391           False  \n",
       "1     low-pass      1  2.550632      0.333333        -2.239163           False  \n",
       "2     low-pass      2  2.595342      0.166667        -2.617676           False  \n",
       "3     low-pass      3  2.643830      0.111111        -2.792522           False  \n",
       "4     low-pass      4  2.650365      0.090909        -3.162579           False  "
      ]
     },
     "execution_count": 5,
     "metadata": {},
     "output_type": "execute_result"
    }
   ],
   "source": [
    "df = pd.concat([\n",
    "    read_model_data(model=model, logprob=True)\n",
    "    for model in MODELS\n",
    "])\n",
    "df.head()"
   ]
  },
  {
   "cell_type": "markdown",
   "id": "007ae1e8",
   "metadata": {},
   "source": [
    "## Visualize layer-wise data"
   ]
  },
  {
   "cell_type": "code",
   "execution_count": 6,
   "id": "41c28391",
   "metadata": {
    "scrolled": false
   },
   "outputs": [
    {
     "name": "stdout",
     "output_type": "stream",
     "text": [
      "Saved figure to ../../figures/vision_entropy_vit_base_patch16_224.pdf\n"
     ]
    },
    {
     "data": {
      "image/png": "[encoded data removed]",
      "text/plain": [
       "<Figure size 200x300 with 1 Axes>"
      ]
     },
     "metadata": {},
     "output_type": "display_data"
    },
    {
     "name": "stdout",
     "output_type": "stream",
     "text": [
      "Saved figure to ../../figures/vision_rank_correct_vit_base_patch16_224.pdf\n"
     ]
    },
    {
     "data": {
      "image/png": "[encoded data removed]",
      "text/plain": [
       "<Figure size 200x300 with 1 Axes>"
      ]
     },
     "metadata": {},
     "output_type": "display_data"
    },
    {
     "name": "stdout",
     "output_type": "stream",
     "text": [
      "Saved figure to ../../figures/vision_logprob_correct_vit_base_patch16_224.pdf\n"
     ]
    },
    {
     "data": {
      "image/png": "[encoded data removed]",
      "text/plain": [
       "<Figure size 200x300 with 1 Axes>"
      ]
     },
     "metadata": {},
     "output_type": "display_data"
    },
    {
     "name": "stdout",
     "output_type": "stream",
     "text": [
      "Saved figure to ../../figures/vision_entropy_vit_small_patch16_224.pdf\n"
     ]
    },
    {
     "data": {
      "image/png": "[encoded data removed]",
      "text/plain": [
       "<Figure size 200x300 with 1 Axes>"
      ]
     },
     "metadata": {},
     "output_type": "display_data"
    },
    {
     "name": "stdout",
     "output_type": "stream",
     "text": [
      "Saved figure to ../../figures/vision_rank_correct_vit_small_patch16_224.pdf\n"
     ]
    },
    {
     "data": {
      "image/png": "[encoded data removed]",
      "text/plain": [
       "<Figure size 200x300 with 1 Axes>"
      ]
     },
     "metadata": {},
     "output_type": "display_data"
    },
    {
     "name": "stdout",
     "output_type": "stream",
     "text": [
      "Saved figure to ../../figures/vision_logprob_correct_vit_small_patch16_224.pdf\n"
     ]
    },
    {
     "data": {
      "image/png": "[encoded data removed]",
      "text/plain": [
       "<Figure size 200x300 with 1 Axes>"
      ]
     },
     "metadata": {},
     "output_type": "display_data"
    }
   ],
   "source": [
    "def get_metric_meta_data(metric):\n",
    "    if metric == \"rank_correct\":\n",
    "        ylabel = \"Rank$^{-1}$ of answer\"\n",
    "        refs = [1/VOCAB_SIZE, 1] # minimum and maximum reciprocal rank\n",
    "    elif metric == \"prob_correct\":\n",
    "        ylabel = \"Prob of answer\"\n",
    "        refs = [0, 1] # minimum and maximum prob\n",
    "    elif metric == \"logprob_correct\":\n",
    "        ylabel = \"Logprob of answer\"\n",
    "        refs = [0] # maximum logprob\n",
    "    elif metric == \"entropy\":\n",
    "        ylabel = \"Entropy\"\n",
    "        refs = [0, np.log(VOCAB_SIZE)] # minimum and maximum entropy\n",
    "    else:\n",
    "        raise ValueError(f\"Unrecognized metric: {metric}\")\n",
    "    return ylabel, refs\n",
    "\n",
    "def plot_layerwise_metric_single(df, metric, one_index=True):\n",
    "    ylabel, refs = get_metric_meta_data(metric)\n",
    "    ax = sns.lineplot(\n",
    "        data=df,\n",
    "        x=\"layer\",\n",
    "        y=metric,\n",
    "        lw=2,\n",
    "        color=METRIC_GROUP_PAL[get_metric_group(metric)]\n",
    "    )\n",
    "    ax.set_xlabel(\"Layer\")\n",
    "    ax.set_ylabel(ylabel)\n",
    "    if one_index:\n",
    "        xticks = [1, int(N_LAYERS/2), N_LAYERS]\n",
    "        ax.set_xticks(xticks, [str(x) for x in xticks])\n",
    "    for y in refs:\n",
    "        ax.axhline(y=y, linestyle=\"--\", color=\"k\", alpha=0.5, zorder=-2)\n",
    "    plt.gcf().set_size_inches(2,3)\n",
    "\n",
    "def plot_metrics(df, task=TASK, render=False, file_suffix=\"\", one_index=True):\n",
    "    for metric in [\"entropy\", \"rank_correct\", \"logprob_correct\"]:\n",
    "        plot_layerwise_metric_single(df, metric, one_index=one_index)\n",
    "        render_figure(f\"{task}_{metric}{file_suffix}.pdf\", render=render)\n",
    "        plt.show()\n",
    "\n",
    "for model in df.model.unique():\n",
    "    plot_metrics(df[df.model==model], task=TASK, render=True, file_suffix=f\"_{model}\")"
   ]
  },
  {
   "cell_type": "markdown",
   "id": "f46ce5a0-8005-4fa2-9d68-eacf19d651e0",
   "metadata": {},
   "source": [
    "## Compute all metrics"
   ]
  },
  {
   "cell_type": "code",
   "execution_count": 7,
   "id": "7e46f898",
   "metadata": {},
   "outputs": [],
   "source": [
    "def get_index_of_biggest_change(vals, negative_change=False):\n",
    "    if negative_change:\n",
    "        vals = -vals\n",
    "    changes = [vals[i+1] - vals[i] for i in range(0, len(vals)-1)]\n",
    "    idx = np.argmax(changes)\n",
    "    return idx\n",
    "\n",
    "def area_above_0(vals):\n",
    "    return sum([v for v in vals if v > 0])\n",
    "\n",
    "def area_below_0(vals):\n",
    "    return sum([abs(v) for v in vals if v < 0])\n",
    "\n",
    "def sum_of_neg_vals(vals):\n",
    "    return sum([v for v in vals if v < 0])\n",
    "\n",
    "def last_neg_index(vals):\n",
    "    reversed_index = next((\n",
    "        i for i, val in enumerate(reversed(vals), 1) if val < 0\n",
    "    ), None)\n",
    "    if reversed_index is None:\n",
    "        return None\n",
    "    else:\n",
    "        return len(vals) - reversed_index\n",
    "    \n",
    "def get_auc(vals, iv):\n",
    "    if iv == \"entropy\":\n",
    "        return vals.sum()\n",
    "    elif iv == \"rank_correct\":\n",
    "        return (vals - (1/VOCAB_SIZE)).sum()\n",
    "    elif iv == \"logprob_correct\":\n",
    "        return abs(vals).sum()\n",
    "    elif iv == \"logprobdiff\":\n",
    "        pos = area_above_0(vals)\n",
    "        neg = area_below_0(vals)\n",
    "        return pos, neg\n",
    "    else:\n",
    "        raise ValueError(f\"Unrecognized independent variable: {iv}\")\n",
    "        \n",
    "def get_prob_data(df, task=TASK):\n",
    "    index = ITEM_META_VAR_MAP[task]\n",
    "    if \"model\" not in index:\n",
    "        index = [\"model\"] + index\n",
    "    \n",
    "    # Get data corresponding to final layer for output measures.\n",
    "    final_layer_df = df[df.is_final_layer].set_index(index)\n",
    "\n",
    "    df = df.set_index(index)\n",
    "    \n",
    "    results = []\n",
    "    \n",
    "    for ind in df.index.unique():\n",
    "        item_data = df.loc[ind]\n",
    "        # There should be one value per layer\n",
    "        assert len(item_data) == N_LAYERS\n",
    "\n",
    "        # ~~~~~~~~~~~~~~~~~~~~~ Initialize metadata about the stimulus.\n",
    "        meta_data = {k: item_data[k].values[0] for k in TASK_META_VARS}\n",
    "        for i, index_var in enumerate(index):\n",
    "            meta_data[index_var] = ind[i]\n",
    "\n",
    "        # ~~~~~~~~~~~~~~~~~~~~~ Add output metrics from final layer.\n",
    "        output_data = {}\n",
    "        for output_iv in OLD_OUTPUT_IVS:\n",
    "            new_iv = OUTPUT_IV_MAP[output_iv]\n",
    "            output_data[new_iv] = final_layer_df.loc[ind][output_iv]\n",
    "            \n",
    "        # ~~~~~~~~~~~~~~~~~~~~~ Compute processing metrics.\n",
    "        process_data = {}\n",
    "\n",
    "        for var_name, clean_var_name in OUTPUT_IV_MAP.items():\n",
    "            # Get base name of metric. Should be one of the following: \n",
    "            # \"entropy\", \"rank_correct\", \"logprob_correct\", \"logprobdiff\"\n",
    "            iv = clean_var_name.replace(\"output_\", \"\")\n",
    "\n",
    "            # Add AUC measure(s).\n",
    "            data = item_data[var_name]\n",
    "            process_data[f\"auc_{iv}\"] = get_auc(data, iv)\n",
    "\n",
    "            # Add biggest change measure.\n",
    "            layer_biggest_change = get_index_of_biggest_change(\n",
    "                data,\n",
    "                negative_change=(iv == \"entropy\")\n",
    "            )\n",
    "            process_data[f\"layer_biggest_change_{iv}\"] = layer_biggest_change\n",
    "\n",
    "        # Combine meta data, output metrics, and processing metrics.\n",
    "        res = meta_data | output_data | process_data\n",
    "        results.append(res)\n",
    "        \n",
    "    results = pd.DataFrame(results)\n",
    "    return results"
   ]
  },
  {
   "cell_type": "code",
   "execution_count": 8,
   "id": "02dfae5f",
   "metadata": {
    "scrolled": false
   },
   "outputs": [
    {
     "name": "stderr",
     "output_type": "stream",
     "text": [
      "/var/folders/72/ykl8sn4d11nfbqbbzl2v6znc0000gq/T/ipykernel_34010/72727810.py:53: PerformanceWarning: indexing past lexsort depth may impact performance.\n",
      "  item_data = df.loc[ind]\n"
     ]
    },
    {
     "name": "stdout",
     "output_type": "stream",
     "text": [
      "['vit_base_patch16_224' 'vit_small_patch16_224']\n"
     ]
    },
    {
     "data": {
      "text/html": [
       "<div>\n",
       "<style scoped>\n",
       "    .dataframe tbody tr th:only-of-type {\n",
       "        vertical-align: middle;\n",
       "    }\n",
       "\n",
       "    .dataframe tbody tr th {\n",
       "        vertical-align: top;\n",
       "    }\n",
       "\n",
       "    .dataframe thead th {\n",
       "        text-align: right;\n",
       "    }\n",
       "</style>\n",
       "<table border=\"1\" class=\"dataframe\">\n",
       "  <thead>\n",
       "    <tr style=\"text-align: right;\">\n",
       "      <th></th>\n",
       "      <th>model</th>\n",
       "      <th>item_id</th>\n",
       "      <th>dataset_name</th>\n",
       "      <th>output_entropy</th>\n",
       "      <th>output_rank_correct</th>\n",
       "      <th>output_logprob_correct</th>\n",
       "      <th>auc_entropy</th>\n",
       "      <th>layer_biggest_change_entropy</th>\n",
       "      <th>auc_rank_correct</th>\n",
       "      <th>layer_biggest_change_rank_correct</th>\n",
       "      <th>auc_logprob_correct</th>\n",
       "      <th>layer_biggest_change_logprob_correct</th>\n",
       "    </tr>\n",
       "  </thead>\n",
       "  <tbody>\n",
       "    <tr>\n",
       "      <th>13440</th>\n",
       "      <td>vit_base_patch16_224</td>\n",
       "      <td>0001_cl_dnn_cr_oven_40_n04111531_14126.png</td>\n",
       "      <td>colour</td>\n",
       "      <td>0.012701</td>\n",
       "      <td>1.000000</td>\n",
       "      <td>-0.001226</td>\n",
       "      <td>23.940528</td>\n",
       "      <td>9</td>\n",
       "      <td>5.332576</td>\n",
       "      <td>6</td>\n",
       "      <td>23.820913</td>\n",
       "      <td>5</td>\n",
       "    </tr>\n",
       "    <tr>\n",
       "      <th>7360</th>\n",
       "      <td>vit_base_patch16_224</td>\n",
       "      <td>0001_cop_dnn_c30_knife_10_n03041632_7380.png</td>\n",
       "      <td>contrast</td>\n",
       "      <td>0.162731</td>\n",
       "      <td>1.000000</td>\n",
       "      <td>-0.024600</td>\n",
       "      <td>26.173969</td>\n",
       "      <td>9</td>\n",
       "      <td>6.892857</td>\n",
       "      <td>5</td>\n",
       "      <td>21.939170</td>\n",
       "      <td>9</td>\n",
       "    </tr>\n",
       "    <tr>\n",
       "      <th>4800</th>\n",
       "      <td>vit_base_patch16_224</td>\n",
       "      <td>0001_eid_dnn_1-10-10_oven_10_n04111531_17072.png</td>\n",
       "      <td>eidolonI</td>\n",
       "      <td>0.005365</td>\n",
       "      <td>1.000000</td>\n",
       "      <td>-0.000485</td>\n",
       "      <td>26.014070</td>\n",
       "      <td>9</td>\n",
       "      <td>3.871266</td>\n",
       "      <td>8</td>\n",
       "      <td>29.818613</td>\n",
       "      <td>6</td>\n",
       "    </tr>\n",
       "    <tr>\n",
       "      <th>15520</th>\n",
       "      <td>vit_base_patch16_224</td>\n",
       "      <td>0001_eid_dnn_16-0-10_oven_10_n04111531_13542.png</td>\n",
       "      <td>eidolonIII</td>\n",
       "      <td>1.789495</td>\n",
       "      <td>0.071429</td>\n",
       "      <td>-4.660355</td>\n",
       "      <td>29.444332</td>\n",
       "      <td>10</td>\n",
       "      <td>0.552615</td>\n",
       "      <td>6</td>\n",
       "      <td>41.084239</td>\n",
       "      <td>6</td>\n",
       "    </tr>\n",
       "    <tr>\n",
       "      <th>10720</th>\n",
       "      <td>vit_base_patch16_224</td>\n",
       "      <td>0001_eid_dnn_64-3-10_car_10_n04285008_8113.png</td>\n",
       "      <td>eidolonII</td>\n",
       "      <td>2.451736</td>\n",
       "      <td>0.062500</td>\n",
       "      <td>-4.302301</td>\n",
       "      <td>30.703561</td>\n",
       "      <td>10</td>\n",
       "      <td>0.058471</td>\n",
       "      <td>4</td>\n",
       "      <td>47.739221</td>\n",
       "      <td>7</td>\n",
       "    </tr>\n",
       "  </tbody>\n",
       "</table>\n",
       "</div>"
      ],
      "text/plain": [
       "                      model                                           item_id  \\\n",
       "13440  vit_base_patch16_224        0001_cl_dnn_cr_oven_40_n04111531_14126.png   \n",
       "7360   vit_base_patch16_224      0001_cop_dnn_c30_knife_10_n03041632_7380.png   \n",
       "4800   vit_base_patch16_224  0001_eid_dnn_1-10-10_oven_10_n04111531_17072.png   \n",
       "15520  vit_base_patch16_224  0001_eid_dnn_16-0-10_oven_10_n04111531_13542.png   \n",
       "10720  vit_base_patch16_224    0001_eid_dnn_64-3-10_car_10_n04285008_8113.png   \n",
       "\n",
       "      dataset_name  output_entropy  output_rank_correct  \\\n",
       "13440       colour        0.012701             1.000000   \n",
       "7360      contrast        0.162731             1.000000   \n",
       "4800      eidolonI        0.005365             1.000000   \n",
       "15520   eidolonIII        1.789495             0.071429   \n",
       "10720    eidolonII        2.451736             0.062500   \n",
       "\n",
       "       output_logprob_correct  auc_entropy  layer_biggest_change_entropy  \\\n",
       "13440               -0.001226    23.940528                             9   \n",
       "7360                -0.024600    26.173969                             9   \n",
       "4800                -0.000485    26.014070                             9   \n",
       "15520               -4.660355    29.444332                            10   \n",
       "10720               -4.302301    30.703561                            10   \n",
       "\n",
       "       auc_rank_correct  layer_biggest_change_rank_correct  \\\n",
       "13440          5.332576                                  6   \n",
       "7360           6.892857                                  5   \n",
       "4800           3.871266                                  8   \n",
       "15520          0.552615                                  6   \n",
       "10720          0.058471                                  4   \n",
       "\n",
       "       auc_logprob_correct  layer_biggest_change_logprob_correct  \n",
       "13440            23.820913                                     5  \n",
       "7360             21.939170                                     9  \n",
       "4800             29.818613                                     6  \n",
       "15520            41.084239                                     6  \n",
       "10720            47.739221                                     7  "
      ]
     },
     "execution_count": 8,
     "metadata": {},
     "output_type": "execute_result"
    }
   ],
   "source": [
    "# Process probability-based metrics.\n",
    "prob_data = get_prob_data(df, task=TASK)\n",
    "print(prob_data.model.unique())\n",
    "prob_data.sort_values(by=ITEM_META_VAR_MAP[TASK]).head()"
   ]
  },
  {
   "cell_type": "code",
   "execution_count": 9,
   "id": "f8cc75ee",
   "metadata": {},
   "outputs": [
    {
     "name": "stdout",
     "output_type": "stream",
     "text": [
      "Checking that all metrics before scalar projections are in the columns:\n",
      "  *  output_entropy --> True\n",
      "  *  output_rank_correct --> True\n",
      "  *  output_logprob_correct --> True\n",
      "  *  auc_entropy --> True\n",
      "  *  layer_biggest_change_entropy --> True\n",
      "  *  auc_rank_correct --> True\n",
      "  *  layer_biggest_change_rank_correct --> True\n",
      "  *  auc_logprob_correct --> True\n",
      "  *  layer_biggest_change_logprob_correct --> True\n"
     ]
    }
   ],
   "source": [
    "print(\"Checking that all metrics before scalar projections are in the columns:\")\n",
    "for iv in OUTPUT_IVS + PROB_IVS:\n",
    "    print(\"  * \", iv, \"-->\", iv in prob_data.columns)"
   ]
  },
  {
   "cell_type": "code",
   "execution_count": 10,
   "id": "6eccc8a3",
   "metadata": {},
   "outputs": [],
   "source": [
    "prob_data.to_csv(\n",
    "    f\"../../data/model_output/processed/{TASK}_metrics.csv\", index=False\n",
    ")"
   ]
  },
  {
   "cell_type": "markdown",
   "id": "43a9ac9f",
   "metadata": {},
   "source": [
    "# 4. Combine with human data"
   ]
  },
  {
   "cell_type": "code",
   "execution_count": 11,
   "id": "62a4a95a",
   "metadata": {
    "scrolled": false
   },
   "outputs": [
    {
     "name": "stderr",
     "output_type": "stream",
     "text": [
      "/var/folders/72/ykl8sn4d11nfbqbbzl2v6znc0000gq/T/ipykernel_34010/682931883.py:37: SettingWithCopyWarning: \n",
      "A value is trying to be set on a copy of a slice from a DataFrame.\n",
      "Try using .loc[row_indexer,col_indexer] = value instead\n",
      "\n",
      "See the caveats in the documentation: https://pandas.pydata.org/pandas-docs/stable/user_guide/indexing.html#returning-a-view-versus-a-copy\n",
      "  model_data[\"item_id\"] = model_data.item_id.apply(\n"
     ]
    },
    {
     "name": "stdout",
     "output_type": "stream",
     "text": [
      "Read data for dataset = low-pass\n",
      "Num unique subjects: 4\n",
      "Num rows: 5120\n"
     ]
    },
    {
     "name": "stderr",
     "output_type": "stream",
     "text": [
      "/var/folders/72/ykl8sn4d11nfbqbbzl2v6znc0000gq/T/ipykernel_34010/682931883.py:37: SettingWithCopyWarning: \n",
      "A value is trying to be set on a copy of a slice from a DataFrame.\n",
      "Try using .loc[row_indexer,col_indexer] = value instead\n",
      "\n",
      "See the caveats in the documentation: https://pandas.pydata.org/pandas-docs/stable/user_guide/indexing.html#returning-a-view-versus-a-copy\n",
      "  model_data[\"item_id\"] = model_data.item_id.apply(\n"
     ]
    },
    {
     "name": "stdout",
     "output_type": "stream",
     "text": [
      "Read data for dataset = false-colour\n",
      "Num unique subjects: 4\n",
      "Num rows: 4480\n",
      "Read data for dataset = cue-conflict\n",
      "Num unique subjects: 10\n",
      "Num rows: 12800\n"
     ]
    },
    {
     "name": "stderr",
     "output_type": "stream",
     "text": [
      "/var/folders/72/ykl8sn4d11nfbqbbzl2v6znc0000gq/T/ipykernel_34010/682931883.py:37: SettingWithCopyWarning: \n",
      "A value is trying to be set on a copy of a slice from a DataFrame.\n",
      "Try using .loc[row_indexer,col_indexer] = value instead\n",
      "\n",
      "See the caveats in the documentation: https://pandas.pydata.org/pandas-docs/stable/user_guide/indexing.html#returning-a-view-versus-a-copy\n",
      "  model_data[\"item_id\"] = model_data.item_id.apply(\n"
     ]
    },
    {
     "name": "stdout",
     "output_type": "stream",
     "text": [
      "Read data for dataset = power-equalisation\n",
      "Num unique subjects: 4\n",
      "Num rows: 4480\n"
     ]
    },
    {
     "name": "stderr",
     "output_type": "stream",
     "text": [
      "/var/folders/72/ykl8sn4d11nfbqbbzl2v6znc0000gq/T/ipykernel_34010/682931883.py:37: SettingWithCopyWarning: \n",
      "A value is trying to be set on a copy of a slice from a DataFrame.\n",
      "Try using .loc[row_indexer,col_indexer] = value instead\n",
      "\n",
      "See the caveats in the documentation: https://pandas.pydata.org/pandas-docs/stable/user_guide/indexing.html#returning-a-view-versus-a-copy\n",
      "  model_data[\"item_id\"] = model_data.item_id.apply(\n"
     ]
    },
    {
     "name": "stdout",
     "output_type": "stream",
     "text": [
      "Read data for dataset = eidolonI\n",
      "Num unique subjects: 4\n",
      "Num rows: 5120\n",
      "Read data for dataset = edge\n",
      "Num unique subjects: 10\n",
      "Num rows: 1600\n"
     ]
    },
    {
     "name": "stderr",
     "output_type": "stream",
     "text": [
      "/var/folders/72/ykl8sn4d11nfbqbbzl2v6znc0000gq/T/ipykernel_34010/682931883.py:37: SettingWithCopyWarning: \n",
      "A value is trying to be set on a copy of a slice from a DataFrame.\n",
      "Try using .loc[row_indexer,col_indexer] = value instead\n",
      "\n",
      "See the caveats in the documentation: https://pandas.pydata.org/pandas-docs/stable/user_guide/indexing.html#returning-a-view-versus-a-copy\n",
      "  model_data[\"item_id\"] = model_data.item_id.apply(\n"
     ]
    },
    {
     "name": "stdout",
     "output_type": "stream",
     "text": [
      "Read data for dataset = phase-scrambling\n",
      "Num unique subjects: 4\n",
      "Num rows: 4480\n"
     ]
    },
    {
     "name": "stderr",
     "output_type": "stream",
     "text": [
      "/var/folders/72/ykl8sn4d11nfbqbbzl2v6znc0000gq/T/ipykernel_34010/682931883.py:37: SettingWithCopyWarning: \n",
      "A value is trying to be set on a copy of a slice from a DataFrame.\n",
      "Try using .loc[row_indexer,col_indexer] = value instead\n",
      "\n",
      "See the caveats in the documentation: https://pandas.pydata.org/pandas-docs/stable/user_guide/indexing.html#returning-a-view-versus-a-copy\n",
      "  model_data[\"item_id\"] = model_data.item_id.apply(\n"
     ]
    },
    {
     "name": "stdout",
     "output_type": "stream",
     "text": [
      "Read data for dataset = contrast\n",
      "Num unique subjects: 4\n",
      "Num rows: 5120\n"
     ]
    },
    {
     "name": "stderr",
     "output_type": "stream",
     "text": [
      "/var/folders/72/ykl8sn4d11nfbqbbzl2v6znc0000gq/T/ipykernel_34010/682931883.py:37: SettingWithCopyWarning: \n",
      "A value is trying to be set on a copy of a slice from a DataFrame.\n",
      "Try using .loc[row_indexer,col_indexer] = value instead\n",
      "\n",
      "See the caveats in the documentation: https://pandas.pydata.org/pandas-docs/stable/user_guide/indexing.html#returning-a-view-versus-a-copy\n",
      "  model_data[\"item_id\"] = model_data.item_id.apply(\n"
     ]
    },
    {
     "name": "stdout",
     "output_type": "stream",
     "text": [
      "Read data for dataset = high-pass\n",
      "Num unique subjects: 4\n",
      "Num rows: 5120\n"
     ]
    },
    {
     "name": "stderr",
     "output_type": "stream",
     "text": [
      "/var/folders/72/ykl8sn4d11nfbqbbzl2v6znc0000gq/T/ipykernel_34010/682931883.py:37: SettingWithCopyWarning: \n",
      "A value is trying to be set on a copy of a slice from a DataFrame.\n",
      "Try using .loc[row_indexer,col_indexer] = value instead\n",
      "\n",
      "See the caveats in the documentation: https://pandas.pydata.org/pandas-docs/stable/user_guide/indexing.html#returning-a-view-versus-a-copy\n",
      "  model_data[\"item_id\"] = model_data.item_id.apply(\n"
     ]
    },
    {
     "name": "stdout",
     "output_type": "stream",
     "text": [
      "Read data for dataset = stylized\n",
      "Num unique subjects: 5\n",
      "Num rows: 4000\n"
     ]
    },
    {
     "name": "stderr",
     "output_type": "stream",
     "text": [
      "/var/folders/72/ykl8sn4d11nfbqbbzl2v6znc0000gq/T/ipykernel_34010/682931883.py:37: SettingWithCopyWarning: \n",
      "A value is trying to be set on a copy of a slice from a DataFrame.\n",
      "Try using .loc[row_indexer,col_indexer] = value instead\n",
      "\n",
      "See the caveats in the documentation: https://pandas.pydata.org/pandas-docs/stable/user_guide/indexing.html#returning-a-view-versus-a-copy\n",
      "  model_data[\"item_id\"] = model_data.item_id.apply(\n"
     ]
    },
    {
     "name": "stdout",
     "output_type": "stream",
     "text": [
      "Read data for dataset = eidolonII\n",
      "Num unique subjects: 4\n",
      "Num rows: 5120\n"
     ]
    },
    {
     "name": "stderr",
     "output_type": "stream",
     "text": [
      "/var/folders/72/ykl8sn4d11nfbqbbzl2v6znc0000gq/T/ipykernel_34010/682931883.py:37: SettingWithCopyWarning: \n",
      "A value is trying to be set on a copy of a slice from a DataFrame.\n",
      "Try using .loc[row_indexer,col_indexer] = value instead\n",
      "\n",
      "See the caveats in the documentation: https://pandas.pydata.org/pandas-docs/stable/user_guide/indexing.html#returning-a-view-versus-a-copy\n",
      "  model_data[\"item_id\"] = model_data.item_id.apply(\n"
     ]
    },
    {
     "name": "stdout",
     "output_type": "stream",
     "text": [
      "Read data for dataset = rotation\n",
      "Num unique subjects: 4\n",
      "Num rows: 5120\n",
      "Read data for dataset = silhouette\n",
      "Num unique subjects: 10\n",
      "Num rows: 1600\n"
     ]
    },
    {
     "name": "stderr",
     "output_type": "stream",
     "text": [
      "/var/folders/72/ykl8sn4d11nfbqbbzl2v6znc0000gq/T/ipykernel_34010/682931883.py:37: SettingWithCopyWarning: \n",
      "A value is trying to be set on a copy of a slice from a DataFrame.\n",
      "Try using .loc[row_indexer,col_indexer] = value instead\n",
      "\n",
      "See the caveats in the documentation: https://pandas.pydata.org/pandas-docs/stable/user_guide/indexing.html#returning-a-view-versus-a-copy\n",
      "  model_data[\"item_id\"] = model_data.item_id.apply(\n"
     ]
    },
    {
     "name": "stdout",
     "output_type": "stream",
     "text": [
      "Read data for dataset = colour\n",
      "Num unique subjects: 4\n",
      "Num rows: 5120\n"
     ]
    },
    {
     "name": "stderr",
     "output_type": "stream",
     "text": [
      "/var/folders/72/ykl8sn4d11nfbqbbzl2v6znc0000gq/T/ipykernel_34010/682931883.py:37: SettingWithCopyWarning: \n",
      "A value is trying to be set on a copy of a slice from a DataFrame.\n",
      "Try using .loc[row_indexer,col_indexer] = value instead\n",
      "\n",
      "See the caveats in the documentation: https://pandas.pydata.org/pandas-docs/stable/user_guide/indexing.html#returning-a-view-versus-a-copy\n",
      "  model_data[\"item_id\"] = model_data.item_id.apply(\n"
     ]
    },
    {
     "name": "stdout",
     "output_type": "stream",
     "text": [
      "Read data for dataset = sketch\n",
      "Num unique subjects: 7\n",
      "Num rows: 5600\n"
     ]
    },
    {
     "name": "stderr",
     "output_type": "stream",
     "text": [
      "/var/folders/72/ykl8sn4d11nfbqbbzl2v6znc0000gq/T/ipykernel_34010/682931883.py:37: SettingWithCopyWarning: \n",
      "A value is trying to be set on a copy of a slice from a DataFrame.\n",
      "Try using .loc[row_indexer,col_indexer] = value instead\n",
      "\n",
      "See the caveats in the documentation: https://pandas.pydata.org/pandas-docs/stable/user_guide/indexing.html#returning-a-view-versus-a-copy\n",
      "  model_data[\"item_id\"] = model_data.item_id.apply(\n"
     ]
    },
    {
     "name": "stdout",
     "output_type": "stream",
     "text": [
      "Read data for dataset = eidolonIII\n",
      "Num unique subjects: 4\n",
      "Num rows: 5120\n"
     ]
    },
    {
     "name": "stderr",
     "output_type": "stream",
     "text": [
      "/var/folders/72/ykl8sn4d11nfbqbbzl2v6znc0000gq/T/ipykernel_34010/682931883.py:37: SettingWithCopyWarning: \n",
      "A value is trying to be set on a copy of a slice from a DataFrame.\n",
      "Try using .loc[row_indexer,col_indexer] = value instead\n",
      "\n",
      "See the caveats in the documentation: https://pandas.pydata.org/pandas-docs/stable/user_guide/indexing.html#returning-a-view-versus-a-copy\n",
      "  model_data[\"item_id\"] = model_data.item_id.apply(\n"
     ]
    },
    {
     "name": "stdout",
     "output_type": "stream",
     "text": [
      "Read data for dataset = uniform-noise\n",
      "Num unique subjects: 4\n",
      "Num rows: 5120\n"
     ]
    },
    {
     "name": "stderr",
     "output_type": "stream",
     "text": [
      "/var/folders/72/ykl8sn4d11nfbqbbzl2v6znc0000gq/T/ipykernel_34010/682931883.py:37: SettingWithCopyWarning: \n",
      "A value is trying to be set on a copy of a slice from a DataFrame.\n",
      "Try using .loc[row_indexer,col_indexer] = value instead\n",
      "\n",
      "See the caveats in the documentation: https://pandas.pydata.org/pandas-docs/stable/user_guide/indexing.html#returning-a-view-versus-a-copy\n",
      "  model_data[\"item_id\"] = model_data.item_id.apply(\n"
     ]
    },
    {
     "name": "stdout",
     "output_type": "stream",
     "text": [
      "Read data for dataset = low-pass\n",
      "Num unique subjects: 4\n",
      "Num rows: 5120\n"
     ]
    },
    {
     "name": "stderr",
     "output_type": "stream",
     "text": [
      "/var/folders/72/ykl8sn4d11nfbqbbzl2v6znc0000gq/T/ipykernel_34010/682931883.py:37: SettingWithCopyWarning: \n",
      "A value is trying to be set on a copy of a slice from a DataFrame.\n",
      "Try using .loc[row_indexer,col_indexer] = value instead\n",
      "\n",
      "See the caveats in the documentation: https://pandas.pydata.org/pandas-docs/stable/user_guide/indexing.html#returning-a-view-versus-a-copy\n",
      "  model_data[\"item_id\"] = model_data.item_id.apply(\n"
     ]
    },
    {
     "name": "stdout",
     "output_type": "stream",
     "text": [
      "Read data for dataset = false-colour\n",
      "Num unique subjects: 4\n",
      "Num rows: 4480\n",
      "Read data for dataset = cue-conflict\n",
      "Num unique subjects: 10\n",
      "Num rows: 12800\n"
     ]
    },
    {
     "name": "stderr",
     "output_type": "stream",
     "text": [
      "/var/folders/72/ykl8sn4d11nfbqbbzl2v6znc0000gq/T/ipykernel_34010/682931883.py:37: SettingWithCopyWarning: \n",
      "A value is trying to be set on a copy of a slice from a DataFrame.\n",
      "Try using .loc[row_indexer,col_indexer] = value instead\n",
      "\n",
      "See the caveats in the documentation: https://pandas.pydata.org/pandas-docs/stable/user_guide/indexing.html#returning-a-view-versus-a-copy\n",
      "  model_data[\"item_id\"] = model_data.item_id.apply(\n"
     ]
    },
    {
     "name": "stdout",
     "output_type": "stream",
     "text": [
      "Read data for dataset = power-equalisation\n",
      "Num unique subjects: 4\n",
      "Num rows: 4480\n"
     ]
    },
    {
     "name": "stderr",
     "output_type": "stream",
     "text": [
      "/var/folders/72/ykl8sn4d11nfbqbbzl2v6znc0000gq/T/ipykernel_34010/682931883.py:37: SettingWithCopyWarning: \n",
      "A value is trying to be set on a copy of a slice from a DataFrame.\n",
      "Try using .loc[row_indexer,col_indexer] = value instead\n",
      "\n",
      "See the caveats in the documentation: https://pandas.pydata.org/pandas-docs/stable/user_guide/indexing.html#returning-a-view-versus-a-copy\n",
      "  model_data[\"item_id\"] = model_data.item_id.apply(\n"
     ]
    },
    {
     "name": "stdout",
     "output_type": "stream",
     "text": [
      "Read data for dataset = eidolonI\n",
      "Num unique subjects: 4\n",
      "Num rows: 5120\n",
      "Read data for dataset = edge\n",
      "Num unique subjects: 10\n",
      "Num rows: 1600\n"
     ]
    },
    {
     "name": "stderr",
     "output_type": "stream",
     "text": [
      "/var/folders/72/ykl8sn4d11nfbqbbzl2v6znc0000gq/T/ipykernel_34010/682931883.py:37: SettingWithCopyWarning: \n",
      "A value is trying to be set on a copy of a slice from a DataFrame.\n",
      "Try using .loc[row_indexer,col_indexer] = value instead\n",
      "\n",
      "See the caveats in the documentation: https://pandas.pydata.org/pandas-docs/stable/user_guide/indexing.html#returning-a-view-versus-a-copy\n",
      "  model_data[\"item_id\"] = model_data.item_id.apply(\n"
     ]
    },
    {
     "name": "stdout",
     "output_type": "stream",
     "text": [
      "Read data for dataset = phase-scrambling\n",
      "Num unique subjects: 4\n",
      "Num rows: 4480\n"
     ]
    },
    {
     "name": "stderr",
     "output_type": "stream",
     "text": [
      "/var/folders/72/ykl8sn4d11nfbqbbzl2v6znc0000gq/T/ipykernel_34010/682931883.py:37: SettingWithCopyWarning: \n",
      "A value is trying to be set on a copy of a slice from a DataFrame.\n",
      "Try using .loc[row_indexer,col_indexer] = value instead\n",
      "\n",
      "See the caveats in the documentation: https://pandas.pydata.org/pandas-docs/stable/user_guide/indexing.html#returning-a-view-versus-a-copy\n",
      "  model_data[\"item_id\"] = model_data.item_id.apply(\n"
     ]
    },
    {
     "name": "stdout",
     "output_type": "stream",
     "text": [
      "Read data for dataset = contrast\n",
      "Num unique subjects: 4\n",
      "Num rows: 5120\n"
     ]
    },
    {
     "name": "stderr",
     "output_type": "stream",
     "text": [
      "/var/folders/72/ykl8sn4d11nfbqbbzl2v6znc0000gq/T/ipykernel_34010/682931883.py:37: SettingWithCopyWarning: \n",
      "A value is trying to be set on a copy of a slice from a DataFrame.\n",
      "Try using .loc[row_indexer,col_indexer] = value instead\n",
      "\n",
      "See the caveats in the documentation: https://pandas.pydata.org/pandas-docs/stable/user_guide/indexing.html#returning-a-view-versus-a-copy\n",
      "  model_data[\"item_id\"] = model_data.item_id.apply(\n"
     ]
    },
    {
     "name": "stdout",
     "output_type": "stream",
     "text": [
      "Read data for dataset = high-pass\n",
      "Num unique subjects: 4\n",
      "Num rows: 5120\n"
     ]
    },
    {
     "name": "stderr",
     "output_type": "stream",
     "text": [
      "/var/folders/72/ykl8sn4d11nfbqbbzl2v6znc0000gq/T/ipykernel_34010/682931883.py:37: SettingWithCopyWarning: \n",
      "A value is trying to be set on a copy of a slice from a DataFrame.\n",
      "Try using .loc[row_indexer,col_indexer] = value instead\n",
      "\n",
      "See the caveats in the documentation: https://pandas.pydata.org/pandas-docs/stable/user_guide/indexing.html#returning-a-view-versus-a-copy\n",
      "  model_data[\"item_id\"] = model_data.item_id.apply(\n"
     ]
    },
    {
     "name": "stdout",
     "output_type": "stream",
     "text": [
      "Read data for dataset = stylized\n",
      "Num unique subjects: 5\n",
      "Num rows: 4000\n"
     ]
    },
    {
     "name": "stderr",
     "output_type": "stream",
     "text": [
      "/var/folders/72/ykl8sn4d11nfbqbbzl2v6znc0000gq/T/ipykernel_34010/682931883.py:37: SettingWithCopyWarning: \n",
      "A value is trying to be set on a copy of a slice from a DataFrame.\n",
      "Try using .loc[row_indexer,col_indexer] = value instead\n",
      "\n",
      "See the caveats in the documentation: https://pandas.pydata.org/pandas-docs/stable/user_guide/indexing.html#returning-a-view-versus-a-copy\n",
      "  model_data[\"item_id\"] = model_data.item_id.apply(\n"
     ]
    },
    {
     "name": "stdout",
     "output_type": "stream",
     "text": [
      "Read data for dataset = eidolonII\n",
      "Num unique subjects: 4\n",
      "Num rows: 5120\n"
     ]
    },
    {
     "name": "stderr",
     "output_type": "stream",
     "text": [
      "/var/folders/72/ykl8sn4d11nfbqbbzl2v6znc0000gq/T/ipykernel_34010/682931883.py:37: SettingWithCopyWarning: \n",
      "A value is trying to be set on a copy of a slice from a DataFrame.\n",
      "Try using .loc[row_indexer,col_indexer] = value instead\n",
      "\n",
      "See the caveats in the documentation: https://pandas.pydata.org/pandas-docs/stable/user_guide/indexing.html#returning-a-view-versus-a-copy\n",
      "  model_data[\"item_id\"] = model_data.item_id.apply(\n"
     ]
    },
    {
     "name": "stdout",
     "output_type": "stream",
     "text": [
      "Read data for dataset = rotation\n",
      "Num unique subjects: 4\n",
      "Num rows: 5120\n",
      "Read data for dataset = silhouette\n",
      "Num unique subjects: 10\n",
      "Num rows: 1600\n"
     ]
    },
    {
     "name": "stderr",
     "output_type": "stream",
     "text": [
      "/var/folders/72/ykl8sn4d11nfbqbbzl2v6znc0000gq/T/ipykernel_34010/682931883.py:37: SettingWithCopyWarning: \n",
      "A value is trying to be set on a copy of a slice from a DataFrame.\n",
      "Try using .loc[row_indexer,col_indexer] = value instead\n",
      "\n",
      "See the caveats in the documentation: https://pandas.pydata.org/pandas-docs/stable/user_guide/indexing.html#returning-a-view-versus-a-copy\n",
      "  model_data[\"item_id\"] = model_data.item_id.apply(\n"
     ]
    },
    {
     "name": "stdout",
     "output_type": "stream",
     "text": [
      "Read data for dataset = colour\n",
      "Num unique subjects: 4\n",
      "Num rows: 5120\n"
     ]
    },
    {
     "name": "stderr",
     "output_type": "stream",
     "text": [
      "/var/folders/72/ykl8sn4d11nfbqbbzl2v6znc0000gq/T/ipykernel_34010/682931883.py:37: SettingWithCopyWarning: \n",
      "A value is trying to be set on a copy of a slice from a DataFrame.\n",
      "Try using .loc[row_indexer,col_indexer] = value instead\n",
      "\n",
      "See the caveats in the documentation: https://pandas.pydata.org/pandas-docs/stable/user_guide/indexing.html#returning-a-view-versus-a-copy\n",
      "  model_data[\"item_id\"] = model_data.item_id.apply(\n"
     ]
    },
    {
     "name": "stdout",
     "output_type": "stream",
     "text": [
      "Read data for dataset = sketch\n",
      "Num unique subjects: 7\n",
      "Num rows: 5600\n"
     ]
    },
    {
     "name": "stderr",
     "output_type": "stream",
     "text": [
      "/var/folders/72/ykl8sn4d11nfbqbbzl2v6znc0000gq/T/ipykernel_34010/682931883.py:37: SettingWithCopyWarning: \n",
      "A value is trying to be set on a copy of a slice from a DataFrame.\n",
      "Try using .loc[row_indexer,col_indexer] = value instead\n",
      "\n",
      "See the caveats in the documentation: https://pandas.pydata.org/pandas-docs/stable/user_guide/indexing.html#returning-a-view-versus-a-copy\n",
      "  model_data[\"item_id\"] = model_data.item_id.apply(\n"
     ]
    },
    {
     "name": "stdout",
     "output_type": "stream",
     "text": [
      "Read data for dataset = eidolonIII\n",
      "Num unique subjects: 4\n",
      "Num rows: 5120\n"
     ]
    },
    {
     "name": "stderr",
     "output_type": "stream",
     "text": [
      "/var/folders/72/ykl8sn4d11nfbqbbzl2v6znc0000gq/T/ipykernel_34010/682931883.py:37: SettingWithCopyWarning: \n",
      "A value is trying to be set on a copy of a slice from a DataFrame.\n",
      "Try using .loc[row_indexer,col_indexer] = value instead\n",
      "\n",
      "See the caveats in the documentation: https://pandas.pydata.org/pandas-docs/stable/user_guide/indexing.html#returning-a-view-versus-a-copy\n",
      "  model_data[\"item_id\"] = model_data.item_id.apply(\n"
     ]
    },
    {
     "name": "stdout",
     "output_type": "stream",
     "text": [
      "Read data for dataset = uniform-noise\n",
      "Num unique subjects: 4\n",
      "Num rows: 5120\n"
     ]
    }
   ],
   "source": [
    "def zscore_col(df, col, group=\"subject_id\"):\n",
    "    ppt_means = df.groupby(group)[col].mean()\n",
    "    ppt_stds = df.groupby(group)[col].std()\n",
    "    df[f\"{col}_zscore\"] = df.apply(\n",
    "        lambda r: (r[col]-ppt_means.loc[r[group]]) / ppt_stds.loc[r[group]],\n",
    "        axis=1\n",
    "    )\n",
    "    return df\n",
    "\n",
    "def combine_model_human_data(model_df, task=TASK):\n",
    "    ivs = OUTPUT_IVS + PROCESS_IVS\n",
    "    \n",
    "    data = {}\n",
    "    \n",
    "    # Read human trial-level data.\n",
    "    for dataset in model_df.dataset_name.unique():\n",
    "        model_data = model_df[model_df.dataset_name==dataset]\n",
    "        \n",
    "        human_folder = f\"../../src/vision/model-vs-human/raw-data/{dataset}\"\n",
    "        trial_df = pd.concat([\n",
    "            pd.read_csv(f\"{human_folder}/{f}\") for f in listdir(human_folder)\n",
    "        ]).rename(columns={\"subj\": \"subject_id\", \"imagename\": \"item_id\"})\n",
    "        trial_df[\"response_correct\"] = (\n",
    "            trial_df[\"category\"] == trial_df[\"object_response\"]\n",
    "        )\n",
    "        # Add z-scored RTs within participant.\n",
    "        trial_df = zscore_col(trial_df, \"rt\", group=\"subject_id\")\n",
    "        # Edit some image names.\n",
    "        if dataset in [\"cue-conflict\", \"edge\", \"silhouette\"]:\n",
    "            trial_df[\"item_id\"] = trial_df.item_id.apply(\n",
    "                lambda i: \"_\".join(i.split(\"_\")[6:])\n",
    "            )\n",
    "        else:\n",
    "            trial_df[\"item_id\"] = trial_df.item_id.apply(\n",
    "                lambda i: \"_\".join(i.split(\"_\")[3:])\n",
    "            )\n",
    "            model_data[\"item_id\"] = model_data.item_id.apply(\n",
    "                lambda i: \"_\".join(i.split(\"_\")[3:])\n",
    "            )\n",
    "        \n",
    "        print(f\"Read data for dataset = {dataset}\")\n",
    "        print(\"Num unique subjects:\", trial_df[\"subject_id\"].nunique())\n",
    "        print(\"Num rows:\", len(trial_df))\n",
    "    \n",
    "        model_index = \"item_id\"\n",
    "        human_index = \"item_id\"\n",
    "\n",
    "        # Add model-derived measures to human trial-level data.\n",
    "        model_data = model_data.set_index(model_index)\n",
    "        for iv in ivs:\n",
    "            trial_df[iv] = trial_df.apply(\n",
    "                lambda r: model_data.loc[r[human_index]][iv],\n",
    "                axis=1\n",
    "            )\n",
    "        data[dataset] = trial_df\n",
    "    return data\n",
    "\n",
    "for model in prob_data.model.unique():\n",
    "    data = combine_model_human_data(prob_data[prob_data.model==model], task=TASK)\n",
    "    for dataset, dataset_trials in data.items():\n",
    "        dataset_trials.to_csv(\n",
    "            f\"../../data/human_model_combined/{TASK}_{dataset}_{model}.csv\", \n",
    "            index=False\n",
    "        )"
   ]
  },
  {
   "cell_type": "code",
   "execution_count": null,
   "id": "69de41ed-c1b3-4b6c-8331-1408112de9d9",
   "metadata": {},
   "outputs": [],
   "source": []
  }
 ],
 "metadata": {
  "kernelspec": {
   "display_name": "Python 3 (ipykernel)",
   "language": "python",
   "name": "python3"
  },
  "language_info": {
   "codemirror_mode": {
    "name": "ipython",
    "version": 3
   },
   "file_extension": ".py",
   "mimetype": "text/x-python",
   "name": "python",
   "nbconvert_exporter": "python",
   "pygments_lexer": "ipython3",
   "version": "3.11.4"
  }
 },
 "nbformat": 4,
 "nbformat_minor": 5
}
