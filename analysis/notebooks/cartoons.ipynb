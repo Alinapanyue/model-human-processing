{
 "cells": [
  {
   "cell_type": "code",
   "execution_count": 1,
   "id": "57e05a54",
   "metadata": {},
   "outputs": [],
   "source": [
    "import numpy as np\n",
    "import matplotlib.pyplot as plt\n",
    "import seaborn as sns\n",
    "sns.set(style=\"ticks\", font_scale=1.2)"
   ]
  },
  {
   "cell_type": "code",
   "execution_count": 2,
   "id": "aa1cdf7d",
   "metadata": {},
   "outputs": [],
   "source": [
    "# Helper function for rendering a figure.\n",
    "FIGURE_DIR = \"../../figures/cartoons\"\n",
    "def render_figure(outpath):\n",
    "    plt.savefig(f\"{FIGURE_DIR}/{outpath}\", dpi=300, bbox_inches=\"tight\")\n",
    "    print(f\"Saved figure to {FIGURE_DIR}/{outpath}\")"
   ]
  },
  {
   "cell_type": "code",
   "execution_count": 3,
   "id": "2caf6541",
   "metadata": {},
   "outputs": [
    {
     "name": "stdout",
     "output_type": "stream",
     "text": [
      "Saved figure to ../../figures/cartoons/cartoon_general_curve_empty.pdf\n"
     ]
    },
    {
     "name": "stderr",
     "output_type": "stream",
     "text": [
      "/var/folders/72/ykl8sn4d11nfbqbbzl2v6znc0000gq/T/ipykernel_27063/382274096.py:36: RankWarning: Polyfit may be poorly conditioned\n",
      "  general_cartoon(auc=False)\n"
     ]
    },
    {
     "data": {
      "image/png": "[encoded data removed]",
      "text/plain": [
       "<Figure size 350x250 with 1 Axes>"
      ]
     },
     "metadata": {},
     "output_type": "display_data"
    },
    {
     "name": "stdout",
     "output_type": "stream",
     "text": [
      "Saved figure to ../../figures/cartoons/cartoon_general_curve_shaded.pdf\n"
     ]
    },
    {
     "name": "stderr",
     "output_type": "stream",
     "text": [
      "/var/folders/72/ykl8sn4d11nfbqbbzl2v6znc0000gq/T/ipykernel_27063/382274096.py:40: RankWarning: Polyfit may be poorly conditioned\n",
      "  general_cartoon(auc=True)\n"
     ]
    },
    {
     "data": {
      "text/plain": [
       "<Figure size 640x480 with 0 Axes>"
      ]
     },
     "metadata": {},
     "output_type": "display_data"
    },
    {
     "data": {
      "image/png": "[encoded data removed]",
      "text/plain": [
       "<Figure size 350x250 with 1 Axes>"
      ]
     },
     "metadata": {},
     "output_type": "display_data"
    }
   ],
   "source": [
    "# GENERAL\n",
    "def general_cartoon(auc=False):\n",
    "    # Given points\n",
    "    x_points = np.array([0, 1, 2, 5, 15, 20, 28, 31])\n",
    "    y_points = np.array([0.001, 0.001, 0.001, 0.002, 0.05, 0.2, 0.85, 0.9])\n",
    "\n",
    "    # Fit a polynomial\n",
    "    coefficients = np.polyfit(x_points, y_points, 8)\n",
    "\n",
    "    # Create a polynomial from the coefficients\n",
    "    polynomial = np.poly1d(coefficients)\n",
    "\n",
    "    # Generate x values for plotting the curve\n",
    "    x_vals = np.linspace(0, 31, 100)\n",
    "\n",
    "    # Calculate the corresponding y values using the polynomial\n",
    "    y_vals = polynomial(x_vals)\n",
    "\n",
    "    # Plot the points and the fitted curve\n",
    "    plt.figure(figsize=(3.5, 2.5))\n",
    "    plt.plot(x_vals, y_vals, color='k', lw=1.5)\n",
    "#     plt.xlabel('Layer')\n",
    "    plt.ylabel('Metric')\n",
    "\n",
    "    xticks = [0,7.5,15,31]\n",
    "    plt.xticks(xticks)\n",
    "    plt.gca().set_xticklabels([])\n",
    "    plt.gca().set_yticks([])\n",
    "    \n",
    "    if auc:\n",
    "        plt.fill_between(x_vals, y_vals, color=\"lightsteelblue\", alpha=0.2)\n",
    "    \n",
    "    sns.despine()\n",
    "\n",
    "\n",
    "general_cartoon(auc=False)\n",
    "render_figure(\"cartoon_general_curve_empty.pdf\")\n",
    "plt.show()\n",
    "plt.clf()\n",
    "general_cartoon(auc=True)\n",
    "render_figure(\"cartoon_general_curve_shaded.pdf\")"
   ]
  },
  {
   "cell_type": "code",
   "execution_count": 4,
   "id": "b0594006",
   "metadata": {},
   "outputs": [
    {
     "name": "stdout",
     "output_type": "stream",
     "text": [
      "Saved figure to ../../figures/cartoons/cartoon_general_boosting_empty.pdf\n"
     ]
    },
    {
     "data": {
      "image/png": "[encoded data removed]",
      "text/plain": [
       "<Figure size 250x250 with 1 Axes>"
      ]
     },
     "metadata": {},
     "output_type": "display_data"
    },
    {
     "name": "stdout",
     "output_type": "stream",
     "text": [
      "Saved figure to ../../figures/cartoons/cartoon_general_boosting_11.pdf\n"
     ]
    },
    {
     "data": {
      "text/plain": [
       "<Figure size 640x480 with 0 Axes>"
      ]
     },
     "metadata": {},
     "output_type": "display_data"
    },
    {
     "data": {
      "image/png": "[encoded data removed]",
      "text/plain": [
       "<Figure size 250x250 with 1 Axes>"
      ]
     },
     "metadata": {},
     "output_type": "display_data"
    }
   ],
   "source": [
    "# GENERAL BOOSTING\n",
    "def general_boosting_cartoon(add_11=False):\n",
    "    # Plot the points and the fitted curve\n",
    "    plt.figure(figsize=(2.5, 2.5))\n",
    "\n",
    "    # Add <1,1> line\n",
    "    if add_11:\n",
    "        plt.plot([0,1], [0,1], color=\"red\", zorder=-1, lw=2)\n",
    "    \n",
    "    plt.xlabel('$\\\\Delta$ Term')\n",
    "    plt.ylabel('$\\\\Delta$ Logit')\n",
    "    plt.gca().axhline(y=0, linestyle=\"--\", color=\"k\", alpha=0.2)\n",
    "    plt.gca().axvline(x=0, linestyle=\"--\", color=\"k\", alpha=0.2)\n",
    "\n",
    "    plt.gca().set_xticklabels([])\n",
    "    plt.gca().set_yticklabels([])\n",
    "    plt.ylim(-1.5,1.5)\n",
    "    plt.xlim(-1.5,1.5)\n",
    "    \n",
    "    sns.despine()\n",
    "\n",
    "    \n",
    "general_boosting_cartoon(add_11=False)\n",
    "render_figure(\"cartoon_general_boosting_empty.pdf\")\n",
    "plt.show()\n",
    "plt.clf()\n",
    "general_boosting_cartoon(add_11=True)\n",
    "render_figure(\"cartoon_general_boosting_11.pdf\")"
   ]
  },
  {
   "cell_type": "code",
   "execution_count": 5,
   "id": "fbcd4ab5",
   "metadata": {},
   "outputs": [
    {
     "name": "stdout",
     "output_type": "stream",
     "text": [
      "Saved figure to ../../figures/cartoons/cartoon_general_proj.pdf\n"
     ]
    },
    {
     "data": {
      "image/png": "[encoded data removed]",
      "text/plain": [
       "<Figure size 350x250 with 1 Axes>"
      ]
     },
     "metadata": {},
     "output_type": "display_data"
    }
   ],
   "source": [
    "# Projections\n",
    "def general_proj_cartoon():\n",
    "    # Given points\n",
    "    data = np.array([\n",
    "        [0, -0.01],\n",
    "        [2, -0.01],\n",
    "        [5, -0.01],\n",
    "        [8, -0.01],\n",
    "        [10, -1],\n",
    "        [15, -1.2],\n",
    "        [22, 1],\n",
    "        [26, 1.5],\n",
    "        [28, 2],\n",
    "        [30, -1]\n",
    "    ])\n",
    "    x_points = data[:, 0]\n",
    "    y_points = data[:, 1]\n",
    "\n",
    "    # Fit a polynomial\n",
    "    coefficients = np.polyfit(x_points, y_points, 5)\n",
    "\n",
    "    # Create a polynomial from the coefficients\n",
    "    polynomial = np.poly1d(coefficients)\n",
    "\n",
    "    # Generate x values for plotting the curve\n",
    "    x_vals = np.linspace(0, 31, 100)\n",
    "\n",
    "    # Calculate the corresponding y values using the polynomial\n",
    "    y_vals = polynomial(x_vals)\n",
    "\n",
    "    # Plot the points and the fitted curve\n",
    "    plt.figure(figsize=(3.5, 2.5))\n",
    "    plt.plot(x_vals, y_vals, color='k', lw=1.5)\n",
    "    plt.xlabel('Layer')\n",
    "    plt.ylabel('Scalar proj on <1,1>')\n",
    "    plt.gca().axhline(y=0, linestyle=\"--\", color=\"k\", alpha=0.5)\n",
    "    plt.gca().set_xticklabels([])\n",
    "    plt.gca().set_yticks([0])\n",
    "    \n",
    "    \n",
    "    FAVOR_CORRECT_COLOR = \"lightsteelblue\"\n",
    "    FAVOR_WRONG_COLOR = \"steelblue\"\n",
    "    plt.fill_between(x_vals, y_vals, where=y_vals<0, color=FAVOR_WRONG_COLOR, alpha=0.5)\n",
    "    plt.fill_between(x_vals, y_vals, where=y_vals>0, color=FAVOR_CORRECT_COLOR, alpha=0.3)\n",
    "    \n",
    "#     for x in range(0, 32, 2):\n",
    "#         y = polynomial(x)\n",
    "#         if y > 0:\n",
    "#             color = FAVOR_CORRECT_COLOR\n",
    "#         else:\n",
    "#             color = FAVOR_WRONG_COLOR\n",
    "#         plt.plot([x,x], [0, y], zorder=-1, color=color, alpha=0.2)\n",
    "    \n",
    "    sns.despine()\n",
    "    \n",
    "general_proj_cartoon()\n",
    "render_figure(\"cartoon_general_proj.pdf\")"
   ]
  },
  {
   "cell_type": "code",
   "execution_count": null,
   "id": "81993b33",
   "metadata": {},
   "outputs": [],
   "source": []
  }
 ],
 "metadata": {
  "kernelspec": {
   "display_name": "Python 3 (ipykernel)",
   "language": "python",
   "name": "python3"
  },
  "language_info": {
   "codemirror_mode": {
    "name": "ipython",
    "version": 3
   },
   "file_extension": ".py",
   "mimetype": "text/x-python",
   "name": "python",
   "nbconvert_exporter": "python",
   "pygments_lexer": "ipython3",
   "version": "3.11.4"
  }
 },
 "nbformat": 4,
 "nbformat_minor": 5
}
